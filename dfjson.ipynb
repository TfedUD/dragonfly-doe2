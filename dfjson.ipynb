{
 "cells": [
  {
   "cell_type": "code",
   "execution_count": 13,
   "metadata": {},
   "outputs": [
    {
     "name": "stdout",
     "output_type": "stream",
     "text": [
      "(RepeatingWindowRatio: [ratio: 0.5] [window_height: 2.0] [sill_height: 0.8] [horizontal: 3.0] [vertical: 0.0], None, RepeatingWindowRatio: [ratio: 0.5] [window_height: 2.0] [sill_height: 0.8] [horizontal: 3.0] [vertical: 0.0], RepeatingWindowRatio: [ratio: 0.5] [window_height: 2.0] [sill_height: 0.8] [horizontal: 3.0] [vertical: 0.0])\n"
     ]
    }
   ],
   "source": [
    "import dragonfly\n",
    "import dragonfly_energy\n",
    "from dragonfly.model import Model\n",
    "from dragonfly.story import Story\n",
    "from dragonfly.room2d import Room2D\n",
    "\n",
    "from dragonfly_doe2 import doe\n",
    "from dragonfly_doe2.doe import floor_space\n",
    "import sys\n",
    "import os\n",
    "import json\n",
    "\n",
    "\n",
    "def make_model(_dfjson):\n",
    "    mod = Model.from_file(_dfjson)\n",
    "    return mod\n",
    "\n",
    "test_model = make_model('assets\\\\reference_dfm\\\\complex_model_with_bcs.dfjson')\n",
    "\n",
    "story1 = test_model.stories[0]\n",
    "rm1 = story1.room_2ds[0]\n",
    "\n",
    "print(rm1.window_parameters)"
   ]
  },
  {
   "cell_type": "code",
   "execution_count": null,
   "metadata": {},
   "outputs": [],
   "source": [
    "import pathlib\n",
    "import sys\n",
    "import os\n",
    "\n",
    "from dragonfly_doe2.writer import model_to_inp\n",
    "from dragonfly.model import Model\n",
    "\n",
    "\n",
    "df_json = 'assets/reference_dfm/complex_model.dfjson'\n",
    "out_inp = 'assets/test_output_inps'\n",
    "out_file = pathlib.Path(out_inp, 'test-model.inp')\n",
    "df_model = Model.from_dfjson(dfjson_file=df_json)\n",
    "a = model_to_inp(df_model, folder=out_inp, name='test-model.inp')\n",
    "a\n",
    "\n"
   ]
  }
 ],
 "metadata": {
  "interpreter": {
   "hash": "b3e87ce88a8455777fcf05900ffd27ec10447b273455023454e0b0b112519aa7"
  },
  "kernelspec": {
   "display_name": "Python 3.9.5 64-bit ('.env': venv)",
   "language": "python",
   "name": "python3"
  },
  "language_info": {
   "codemirror_mode": {
    "name": "ipython",
    "version": 3
   },
   "file_extension": ".py",
   "mimetype": "text/x-python",
   "name": "python",
   "nbconvert_exporter": "python",
   "pygments_lexer": "ipython3",
   "version": "3.9.5"
  },
  "orig_nbformat": 4
 },
 "nbformat": 4,
 "nbformat_minor": 2
}
