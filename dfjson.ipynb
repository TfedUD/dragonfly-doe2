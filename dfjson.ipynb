{
 "cells": [
  {
   "cell_type": "code",
   "execution_count": 2,
   "metadata": {},
   "outputs": [
    {
     "name": "stdout",
     "output_type": "stream",
     "text": [
      "\"simple_example_dfb_Floor1\" = FLOOR\n",
      "   Z                = 0.0\n",
      "   POLYGON          = \"simple_example_dfb_Floor1 Floor Plg\"\n",
      "   SHAPE            = POLYGON\n",
      "   FLOOR-HEIGHT     = 10.0\n",
      "   C-DIAGRAM-DATA   = *simple_example_dfb_Floor1 UI DiagData*\n",
      "   ..\n",
      "\"simple_example_dfb_Floor1_Room1\" = SPACE\n",
      "   SHAPE            = POLYGON\n",
      "   POLYGON          = \"simple_example_dfb_Floor1_Room1 Plg\"\n",
      "   C-ACTIVITY-DESC  = *Generic Office Program*\n",
      "   ..\n",
      "\"simple_example_dfb_Floor1_Room1 Wall_1\" = EXTERIOR-WALL\n",
      "  CONSTRUCTION    = \"EWall Construction\"\n",
      "  LOCATION        = SPACE-V1\n",
      "   ..\n",
      "\"simple_example_dfb_Floor1_Room1 Wall_2\" = EXTERIOR-WALL\n",
      "  CONSTRUCTION    = \"EWall Construction\"\n",
      "  LOCATION        = SPACE-V2\n",
      "   ..\n",
      "\"simple_example_dfb_Floor1_Room1 Wall_3\" = EXTERIOR-WALL\n",
      "  CONSTRUCTION    = \"EWall Construction\"\n",
      "  LOCATION        = SPACE-V3\n",
      "   ..\n",
      "\"simple_example_dfb_Floor1_Room1 Wall_4\" = EXTERIOR-WALL\n",
      "  CONSTRUCTION    = \"EWall Construction\"\n",
      "  LOCATION        = SPACE-V4\n",
      "   ..\n"
     ]
    }
   ],
   "source": [
    "import dragonfly\n",
    "import dragonfly_energy\n",
    "import dragonfly.dictutil as df_dict_util\n",
    "from dragonfly.model import Model\n",
    "from dragonfly.config import folders\n",
    "import honeybee_energy.dictutil as energy_dict_util\n",
    "from ladybug_rhino.config import units_system, tolerance\n",
    "import dragonfly_doe2\n",
    "from dragonfly_doe2.writer import *\n",
    "import dragonfly_doe2.writer as dfw\n",
    "from dragonfly_doe2.doe_project.model import INPRoom as rm\n",
    "from dragonfly_doe2.doe_project.model import INPStory as stry\n",
    "import sys\n",
    "import os\n",
    "import json\n",
    "\n",
    "\n",
    "    \n",
    "def make_model(_dfjson):\n",
    "    mod = Model.from_file(_dfjson)\n",
    "    return mod\n",
    "\n",
    "test_model = make_model('reference_dfm\\\\simple_example_v1.dfjson')\n",
    "\n",
    "test_story = test_model.stories[0]\n",
    "\n",
    "test_room = rm(test_story[0])\n",
    "\n",
    "doe_stry = stry(test_story)\n",
    "print(doe_stry.space_block)\n",
    "\n",
    "\n"
   ]
  },
  {
   "cell_type": "code",
   "execution_count": 4,
   "metadata": {},
   "outputs": [
    {
     "name": "stdout",
     "output_type": "stream",
     "text": [
      "\"simple_example_dfb_Floor1_Room1\" = SPACE\n",
      "   SHAPE            = POLYGON\n",
      "   POLYGON          = \"simple_example_dfb_Floor1_Room1 Plg\"\n",
      "   C-ACTIVITY-DESC  = *Generic Office Program*\n",
      "   ..\n",
      "\"simple_example_dfb_Floor1_Room1 Wall_1\" = EXTERIOR-WALL\n",
      "  CONSTRUCTION    = \"EWall Construction\"\n",
      "  LOCATION        = SPACE-V1\n",
      "   ..\n",
      "\"simple_example_dfb_Floor1_Room1 Wall_2\" = EXTERIOR-WALL\n",
      "  CONSTRUCTION    = \"EWall Construction\"\n",
      "  LOCATION        = SPACE-V2\n",
      "   ..\n",
      "\"simple_example_dfb_Floor1_Room1 Wall_3\" = EXTERIOR-WALL\n",
      "  CONSTRUCTION    = \"EWall Construction\"\n",
      "  LOCATION        = SPACE-V3\n",
      "   ..\n",
      "\"simple_example_dfb_Floor1_Room1 Wall_4\" = EXTERIOR-WALL\n",
      "  CONSTRUCTION    = \"EWall Construction\"\n",
      "  LOCATION        = SPACE-V4\n",
      "   ..\n"
     ]
    }
   ],
   "source": [
    "print(test_room.space_data)"
   ]
  },
  {
   "cell_type": "code",
   "execution_count": 5,
   "metadata": {},
   "outputs": [
    {
     "name": "stdout",
     "output_type": "stream",
     "text": [
      "\"simple_example_dfb_Floor1_Room1 Plg\" = POLYGON\n",
      "   V1               = ( 0.0 , 0.0 )\n",
      "   V2               = ( 31.6 , 0.0 )\n",
      "   V3               = ( 31.6 , 31.6 )\n",
      "   V4               = ( 0.0 , 31.6 )\n",
      "   ..\n",
      "\n"
     ]
    }
   ],
   "source": [
    "print(test_room.poly_data)"
   ]
  },
  {
   "cell_type": "code",
   "execution_count": 6,
   "metadata": {},
   "outputs": [
    {
     "name": "stdout",
     "output_type": "stream",
     "text": [
      "hellomainstr\n",
      "abc\n",
      "efg\n",
      "dto\n"
     ]
    }
   ],
   "source": [
    "s1 = 'abc'\n",
    "s2 = 'efg'\n",
    "s3 = 'dto'\n",
    "\n",
    "mainstr = 'hellomainstr\\n'\n",
    "\n",
    "strs = [s1, s2, s3]\n",
    "roomstrs = '\\n'.join(i for i in strs[0:])\n",
    "newstr = mainstr + roomstrs\n",
    "\n",
    "print(newstr)"
   ]
  },
  {
   "cell_type": "code",
   "execution_count": null,
   "metadata": {},
   "outputs": [],
   "source": []
  }
 ],
 "metadata": {
  "interpreter": {
   "hash": "b3e87ce88a8455777fcf05900ffd27ec10447b273455023454e0b0b112519aa7"
  },
  "kernelspec": {
   "display_name": "Python 3.9.5 64-bit ('.env': venv)",
   "language": "python",
   "name": "python3"
  },
  "language_info": {
   "codemirror_mode": {
    "name": "ipython",
    "version": 3
   },
   "file_extension": ".py",
   "mimetype": "text/x-python",
   "name": "python",
   "nbconvert_exporter": "python",
   "pygments_lexer": "ipython3",
   "version": "3.9.5"
  },
  "orig_nbformat": 4
 },
 "nbformat": 4,
 "nbformat_minor": 2
}
