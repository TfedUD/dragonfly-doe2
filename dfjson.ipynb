{
 "cells": [
  {
   "cell_type": "code",
   "execution_count": 1,
   "metadata": {},
   "outputs": [
    {
     "name": "stdout",
     "output_type": "stream",
     "text": [
      "Failed to import Rhino scriptcontext. Default tolerance of 0.01 and angle tolerance of 1.0 degrees will be used.\n"
     ]
    }
   ],
   "source": [
    "import dragonfly\n",
    "import dragonfly_energy\n",
    "import dragonfly.dictutil as df_dict_util\n",
    "from dragonfly.model import Model\n",
    "from dragonfly.config import folders\n",
    "import honeybee_energy.dictutil as energy_dict_util\n",
    "from ladybug_rhino.config import units_system, tolerance\n",
    "import dragonfly_doe2\n",
    "from dragonfly_doe2.writer import *\n",
    "import dragonfly_doe2.writer as dfw\n",
    "from dragonfly_doe2.doe_project.model import INPRoom as rm\n",
    "from dragonfly_doe2.doe_project.model import INPStory as stry\n",
    "import sys\n",
    "import os\n",
    "import json\n",
    "\n",
    "\n",
    "    \n",
    "def make_model(_dfjson):\n",
    "    mod = Model.from_file(_dfjson)\n",
    "    return mod\n",
    "\n",
    "test_model = make_model('reference_dfm\\\\simple_example_v1.dfjson')\n",
    "\n",
    "test_story = test_model.stories[0]\n",
    "\n",
    "test_room = rm(test_story[0])\n",
    "\n",
    "\n"
   ]
  },
  {
   "cell_type": "code",
   "execution_count": 2,
   "metadata": {},
   "outputs": [
    {
     "name": "stdout",
     "output_type": "stream",
     "text": [
      "[Outdoors, Outdoors, Outdoors, Outdoors]\n"
     ]
    }
   ],
   "source": [
    "print(test_room.space_data)"
   ]
  },
  {
   "cell_type": "code",
   "execution_count": 4,
   "metadata": {},
   "outputs": [
    {
     "name": "stdout",
     "output_type": "stream",
     "text": [
      "\"simple_example_dfb_Floor1_Room1 Plg\" = POLYGON\n",
      "   V1               = ( 0.0 , 0.0 )\n",
      "   V2               = ( 31.6 , 0.0 )\n",
      "   V3               = ( 31.6 , 31.6 )\n",
      "   V4               = ( 0.0 , 31.6 )\n",
      "   ..\n",
      "\n"
     ]
    }
   ],
   "source": [
    "print(test_room.poly_data)"
   ]
  },
  {
   "cell_type": "code",
   "execution_count": 5,
   "metadata": {},
   "outputs": [
    {
     "ename": "NameError",
     "evalue": "name 'Room' is not defined",
     "output_type": "error",
     "traceback": [
      "\u001b[1;31m---------------------------------------------------------------------------\u001b[0m",
      "\u001b[1;31mNameError\u001b[0m                                 Traceback (most recent call last)",
      "\u001b[1;32m~\\AppData\\Local\\Temp/ipykernel_27620/2328485337.py\u001b[0m in \u001b[0;36m<module>\u001b[1;34m\u001b[0m\n\u001b[0;32m      1\u001b[0m \u001b[0mdoe_stry\u001b[0m \u001b[1;33m=\u001b[0m \u001b[0mstry\u001b[0m\u001b[1;33m(\u001b[0m\u001b[0mtest_story\u001b[0m\u001b[1;33m)\u001b[0m\u001b[1;33m\u001b[0m\u001b[1;33m\u001b[0m\u001b[0m\n\u001b[1;32m----> 2\u001b[1;33m \u001b[0mprint\u001b[0m\u001b[1;33m(\u001b[0m\u001b[0mdoe_stry\u001b[0m\u001b[1;33m.\u001b[0m\u001b[0mspace_block\u001b[0m\u001b[1;33m)\u001b[0m\u001b[1;33m\u001b[0m\u001b[1;33m\u001b[0m\u001b[0m\n\u001b[0m",
      "\u001b[1;32md:\\__A1_LBT_DEV\\dragonfly-doe2\\dragonfly_doe2\\doe_project\\model.py\u001b[0m in \u001b[0;36mspace_block\u001b[1;34m(self)\u001b[0m\n\u001b[0;32m    191\u001b[0m     \u001b[1;33m@\u001b[0m\u001b[0mproperty\u001b[0m\u001b[1;33m\u001b[0m\u001b[1;33m\u001b[0m\u001b[0m\n\u001b[0;32m    192\u001b[0m     \u001b[1;32mdef\u001b[0m \u001b[0mspace_block\u001b[0m\u001b[1;33m(\u001b[0m\u001b[0mself\u001b[0m\u001b[1;33m)\u001b[0m\u001b[1;33m:\u001b[0m\u001b[1;33m\u001b[0m\u001b[1;33m\u001b[0m\u001b[0m\n\u001b[1;32m--> 193\u001b[1;33m         \u001b[1;32mreturn\u001b[0m \u001b[0mself\u001b[0m\u001b[1;33m.\u001b[0m\u001b[0m_space_block\u001b[0m\u001b[1;33m(\u001b[0m\u001b[0mself\u001b[0m\u001b[1;33m.\u001b[0m\u001b[0mrooms_doe2\u001b[0m\u001b[1;33m,\u001b[0m \u001b[0mself\u001b[0m\u001b[1;33m.\u001b[0m\u001b[0mspace_data\u001b[0m\u001b[1;33m)\u001b[0m\u001b[1;33m\u001b[0m\u001b[1;33m\u001b[0m\u001b[0m\n\u001b[0m\u001b[0;32m    194\u001b[0m \u001b[1;33m\u001b[0m\u001b[0m\n\u001b[0;32m    195\u001b[0m     \u001b[1;33m@\u001b[0m\u001b[0mstaticmethod\u001b[0m\u001b[1;33m\u001b[0m\u001b[1;33m\u001b[0m\u001b[0m\n",
      "\u001b[1;32md:\\__A1_LBT_DEV\\dragonfly-doe2\\dragonfly_doe2\\doe_project\\model.py\u001b[0m in \u001b[0;36mrooms_doe2\u001b[1;34m(self)\u001b[0m\n\u001b[0;32m    123\u001b[0m     \u001b[1;33m@\u001b[0m\u001b[0mproperty\u001b[0m\u001b[1;33m\u001b[0m\u001b[1;33m\u001b[0m\u001b[0m\n\u001b[0;32m    124\u001b[0m     \u001b[1;32mdef\u001b[0m \u001b[0mrooms_doe2\u001b[0m\u001b[1;33m(\u001b[0m\u001b[0mself\u001b[0m\u001b[1;33m)\u001b[0m\u001b[1;33m:\u001b[0m\u001b[1;33m\u001b[0m\u001b[1;33m\u001b[0m\u001b[0m\n\u001b[1;32m--> 125\u001b[1;33m         \u001b[1;32mreturn\u001b[0m\u001b[1;33m(\u001b[0m\u001b[0mself\u001b[0m\u001b[1;33m.\u001b[0m\u001b[0m_make_doe_rooms\u001b[0m\u001b[1;33m(\u001b[0m\u001b[0mself\u001b[0m\u001b[1;33m.\u001b[0m\u001b[0mhost\u001b[0m\u001b[1;33m)\u001b[0m\u001b[1;33m)\u001b[0m\u001b[1;33m\u001b[0m\u001b[1;33m\u001b[0m\u001b[0m\n\u001b[0m\u001b[0;32m    126\u001b[0m \u001b[1;33m\u001b[0m\u001b[0m\n\u001b[0;32m    127\u001b[0m     \u001b[1;33m@\u001b[0m\u001b[0mstaticmethod\u001b[0m\u001b[1;33m\u001b[0m\u001b[1;33m\u001b[0m\u001b[0m\n",
      "\u001b[1;32md:\\__A1_LBT_DEV\\dragonfly-doe2\\dragonfly_doe2\\doe_project\\model.py\u001b[0m in \u001b[0;36m_make_doe_rooms\u001b[1;34m(obj)\u001b[0m\n\u001b[0;32m    129\u001b[0m         \u001b[0mdoe_rms\u001b[0m \u001b[1;33m=\u001b[0m \u001b[1;33m[\u001b[0m\u001b[1;33m]\u001b[0m\u001b[1;33m\u001b[0m\u001b[1;33m\u001b[0m\u001b[0m\n\u001b[0;32m    130\u001b[0m         \u001b[1;32mfor\u001b[0m \u001b[0mroom\u001b[0m \u001b[1;32min\u001b[0m \u001b[0mobj\u001b[0m\u001b[1;33m.\u001b[0m\u001b[0mroom_2ds\u001b[0m\u001b[1;33m:\u001b[0m\u001b[1;33m\u001b[0m\u001b[1;33m\u001b[0m\u001b[0m\n\u001b[1;32m--> 131\u001b[1;33m             \u001b[0mdoe_rm\u001b[0m \u001b[1;33m=\u001b[0m \u001b[0mRoom\u001b[0m\u001b[1;33m(\u001b[0m\u001b[0mroom\u001b[0m\u001b[1;33m)\u001b[0m\u001b[1;33m\u001b[0m\u001b[1;33m\u001b[0m\u001b[0m\n\u001b[0m\u001b[0;32m    132\u001b[0m             \u001b[0mdoe_rms\u001b[0m\u001b[1;33m.\u001b[0m\u001b[0mappend\u001b[0m\u001b[1;33m(\u001b[0m\u001b[0mdoe_rm\u001b[0m\u001b[1;33m)\u001b[0m\u001b[1;33m\u001b[0m\u001b[1;33m\u001b[0m\u001b[0m\n\u001b[0;32m    133\u001b[0m         \u001b[1;32mreturn\u001b[0m\u001b[1;33m(\u001b[0m\u001b[0mdoe_rms\u001b[0m\u001b[1;33m)\u001b[0m\u001b[1;33m\u001b[0m\u001b[1;33m\u001b[0m\u001b[0m\n",
      "\u001b[1;31mNameError\u001b[0m: name 'Room' is not defined"
     ]
    }
   ],
   "source": [
    "doe_stry = stry(test_story)\n",
    "print(doe_stry.space_block)"
   ]
  },
  {
   "cell_type": "code",
   "execution_count": 6,
   "metadata": {},
   "outputs": [
    {
     "name": "stdout",
     "output_type": "stream",
     "text": [
      "hellomainstr\n",
      "abc\n",
      "efg\n",
      "dto\n"
     ]
    }
   ],
   "source": [
    "s1 = 'abc'\n",
    "s2 = 'efg'\n",
    "s3 = 'dto'\n",
    "\n",
    "mainstr = 'hellomainstr\\n'\n",
    "\n",
    "strs = [s1, s2, s3]\n",
    "roomstrs = '\\n'.join(i for i in strs[0:])\n",
    "newstr = mainstr + roomstrs\n",
    "\n",
    "print(newstr)"
   ]
  },
  {
   "cell_type": "code",
   "execution_count": null,
   "metadata": {},
   "outputs": [],
   "source": []
  }
 ],
 "metadata": {
  "interpreter": {
   "hash": "b3e87ce88a8455777fcf05900ffd27ec10447b273455023454e0b0b112519aa7"
  },
  "kernelspec": {
   "display_name": "Python 3.9.5 64-bit ('.env': venv)",
   "language": "python",
   "name": "python3"
  },
  "language_info": {
   "codemirror_mode": {
    "name": "ipython",
    "version": 3
   },
   "file_extension": ".py",
   "mimetype": "text/x-python",
   "name": "python",
   "nbconvert_exporter": "python",
   "pygments_lexer": "ipython3",
   "version": "3.9.5"
  },
  "orig_nbformat": 4
 },
 "nbformat": 4,
 "nbformat_minor": 2
}
